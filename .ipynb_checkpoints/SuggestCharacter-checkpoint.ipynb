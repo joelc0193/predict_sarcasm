{
 "cells": [
  {
   "cell_type": "code",
   "execution_count": 884,
   "id": "8c1f012f",
   "metadata": {},
   "outputs": [],
   "source": [
    "import tensorflow as tf\n",
    "from tensorflow.keras.preprocessing.text import Tokenizer\n",
    "from tensorflow.keras.preprocessing.sequence import pad_sequences\n",
    "import numpy as np\n",
    "import random\n",
    "import json\n",
    "from sklearn.preprocessing import OneHotEncoder"
   ]
  },
  {
   "cell_type": "code",
   "execution_count": 885,
   "id": "e16f2a80",
   "metadata": {},
   "outputs": [],
   "source": [
    "# Define hyper parameters\n",
    "oov_token = \"<OOV>\"\n",
    "max_words = 20\n",
    "embedding_dim = 16\n",
    "vocab_size = 5000"
   ]
  },
  {
   "cell_type": "code",
   "execution_count": null,
   "id": "52a38d79",
   "metadata": {},
   "outputs": [],
   "source": [
    "# Prepare data\n",
    "with open(\"./sarcasm.json\", 'r') as f:\n",
    "    datastore = json.load(f)\n",
    "\n",
    "sentences = []\n",
    "labels = []\n",
    "for item in datastore:\n",
    "    sentences.append(item['headline'])\n",
    "    labels.append(item['is_sarcastic'])\n",
    "    print(item)"
   ]
  },
  {
   "cell_type": "code",
   "execution_count": 887,
   "id": "e71ec4f8",
   "metadata": {},
   "outputs": [],
   "source": [
    "# Use tokenizer\n",
    "tokenizer = Tokenizer(vocab_size, oov_token=oov_token)\n",
    "tokenizer.fit_on_texts(sentences)\n",
    "word_index = tokenizer.word_index\n",
    "sequences = tokenizer.texts_to_sequences(sentences)"
   ]
  },
  {
   "cell_type": "code",
   "execution_count": 888,
   "id": "df8fa96a",
   "metadata": {},
   "outputs": [],
   "source": [
    "# Use pad_sequences\n",
    "padded_sequences = pad_sequences(sequences, maxlen=max_words)"
   ]
  },
  {
   "cell_type": "code",
   "execution_count": 889,
   "id": "a5664af6",
   "metadata": {},
   "outputs": [],
   "source": [
    "# Split train/test\n",
    "train_ratio = .6\n",
    "sequences_len = len(padded_sequences)\n",
    "\n",
    "dataset = [[info[0], info[1]] for info in zip(padded_sequences, labels)]\n",
    "random.shuffle(dataset)\n",
    "\n",
    "x_train = np.asarray(list(map(lambda x: x[0], dataset[:int(sequences_len*train_ratio)])))\n",
    "x_test = np.asarray(list(map(lambda x: x[0], dataset[int(sequences_len*train_ratio):])))\n",
    "y_train = np.asarray(list(map(lambda y: y[1], dataset[:int(sequences_len*train_ratio)])))\n",
    "y_test = np.asarray(list(map(lambda y: y[1], dataset[int(sequences_len*train_ratio):])))"
   ]
  },
  {
   "cell_type": "code",
   "execution_count": 898,
   "id": "7206a66c",
   "metadata": {},
   "outputs": [],
   "source": [
    "# Create RNN with Embedding and two layer LSTM\n",
    "model = tf.keras.models.Sequential(layers=\n",
    "    [\n",
    "        tf.keras.layers.Embedding(vocab_size, embedding_dim, input_length=max_words),\n",
    "        tf.keras.layers.Bidirectional(tf.keras.layers.LSTM(64, return_sequences=True)),\n",
    "        tf.keras.layers.Bidirectional(tf.keras.layers.LSTM(64)),\n",
    "        tf.keras.layers.Dropout(0.5),\n",
    "        tf.keras.layers.Dense(24, activation='relu'),\n",
    "        tf.keras.layers.Dropout(0.5),\n",
    "        tf.keras.layers.Dense(1, activation='sigmoid')\n",
    "    ]\n",
    ")"
   ]
  },
  {
   "cell_type": "code",
   "execution_count": 899,
   "id": "de1d4acf",
   "metadata": {},
   "outputs": [],
   "source": [
    "model.compile(loss='binary_crossentropy', optimizer=tf.keras.optimizers.Adam(), metrics=['accuracy'])"
   ]
  },
  {
   "cell_type": "code",
   "execution_count": 900,
   "id": "fb1d99cd",
   "metadata": {},
   "outputs": [
    {
     "name": "stdout",
     "output_type": "stream",
     "text": [
      "Model: \"sequential_83\"\n",
      "_________________________________________________________________\n",
      " Layer (type)                Output Shape              Param #   \n",
      "=================================================================\n",
      " embedding_98 (Embedding)    (None, 20, 16)            80000     \n",
      "                                                                 \n",
      " bidirectional_34 (Bidirecti  (None, 20, 128)          41472     \n",
      " onal)                                                           \n",
      "                                                                 \n",
      " bidirectional_35 (Bidirecti  (None, 128)              98816     \n",
      " onal)                                                           \n",
      "                                                                 \n",
      " dropout_21 (Dropout)        (None, 128)               0         \n",
      "                                                                 \n",
      " dense_163 (Dense)           (None, 24)                3096      \n",
      "                                                                 \n",
      " dropout_22 (Dropout)        (None, 24)                0         \n",
      "                                                                 \n",
      " dense_164 (Dense)           (None, 1)                 25        \n",
      "                                                                 \n",
      "=================================================================\n",
      "Total params: 223,409\n",
      "Trainable params: 223,409\n",
      "Non-trainable params: 0\n",
      "_________________________________________________________________\n"
     ]
    }
   ],
   "source": [
    "model.summary()"
   ]
  },
  {
   "cell_type": "code",
   "execution_count": 901,
   "id": "0e22f190",
   "metadata": {},
   "outputs": [
    {
     "name": "stdout",
     "output_type": "stream",
     "text": [
      "Epoch 1/1000\n",
      "501/501 [==============================] - 28s 40ms/step - loss: 0.4821 - accuracy: 0.7612 - val_loss: 0.3616 - val_accuracy: 0.8426\n",
      "Epoch 2/1000\n",
      "501/501 [==============================] - 20s 41ms/step - loss: 0.2967 - accuracy: 0.8847 - val_loss: 0.3465 - val_accuracy: 0.8486\n",
      "Epoch 3/1000\n",
      "501/501 [==============================] - 24s 48ms/step - loss: 0.2375 - accuracy: 0.9146 - val_loss: 0.4257 - val_accuracy: 0.8487\n"
     ]
    },
    {
     "data": {
      "text/plain": [
       "<keras.callbacks.History at 0x190656550>"
      ]
     },
     "execution_count": 901,
     "metadata": {},
     "output_type": "execute_result"
    }
   ],
   "source": [
    "class myCallBack(tf.keras.callbacks.Callback):\n",
    "    def on_epoch_end(self, epoch, log={}):\n",
    "        if log.get('accuracy') > 0.91 and log.get('val_accuracy') > 0.84:\n",
    "            self.model.stop_training = True\n",
    "\n",
    "mycallback = myCallBack()\n",
    "model.fit(x_train, y_train, epochs=1000, validation_data=(x_test, y_test), callbacks=[mycallback])"
   ]
  },
  {
   "cell_type": "code",
   "execution_count": 902,
   "id": "197716da",
   "metadata": {},
   "outputs": [
    {
     "name": "stdout",
     "output_type": "stream",
     "text": [
      "prec: 1.0 recall: 0.6929507885236557 accuracy: 0.8487457880943466\n",
      "0 1616\n"
     ]
    }
   ],
   "source": [
    "new_test = ['I like you', 'I feel bad']\n",
    "# tokenized_test = tokenizer.texts_to_sequences(new_test)\n",
    "# padded_test = pad_sequences(tokenized_test, max_words)\n",
    "prediction=model.predict(x_test)\n",
    "\n",
    "model.metrics\n",
    "tp = 0 \n",
    "tn = 0\n",
    "fp = 0\n",
    "fn = 0\n",
    "for info in zip(prediction.round(), y_test):\n",
    "    if info[1] == 1:\n",
    "        if info[0] == 1:\n",
    "            tp += 1\n",
    "        if info[0] == 0:\n",
    "            fp += 1\n",
    "    if info[1] == 0:\n",
    "        if info[0] == 0:\n",
    "            tn += 1\n",
    "        if info[0] == 1:\n",
    "            fp += 1\n",
    "\n",
    "prec = tp/(tp + fn)\n",
    "recall = tp/(tp + fp)\n",
    "\n",
    "print('prec:', prec, 'recall:', recall, 'accuracy:', (tp + tn)/(tp + tn + fp + fn))\n",
    "\n",
    "print(fn, fp)"
   ]
  },
  {
   "cell_type": "code",
   "execution_count": null,
   "id": "edf1e28e",
   "metadata": {},
   "outputs": [
    {
     "name": "stderr",
     "output_type": "stream",
     "text": [
      "INFO:     Started server process [75404]\n",
      "INFO:     Waiting for application startup.\n",
      "INFO:     Application startup complete.\n",
      "INFO:     Uvicorn running on http://127.0.0.1:8000 (Press CTRL+C to quit)\n"
     ]
    },
    {
     "name": "stdout",
     "output_type": "stream",
     "text": [
      "INFO:     127.0.0.1:50311 - \"GET /docs HTTP/1.1\" 200 OK\n",
      "INFO:     127.0.0.1:50311 - \"GET /openapi.json HTTP/1.1\" 200 OK\n",
      "INFO:     127.0.0.1:50312 - \"POST /predict?sentence=stock%20analysts%20confused%2C%20frightened%20by%20boar%20market HTTP/1.1\" 200 OK\n",
      "INFO:     127.0.0.1:50312 - \"POST /predict?sentence=stock%20analysts%20confused%2C%20frightened%20by%20boar%20market HTTP/1.1\" 200 OK\n",
      "INFO:     127.0.0.1:50320 - \"POST /predict?sentence=bloomberg%27s%20program%20to%20build%20better%20cities%20just%20got%20bigger HTTP/1.1\" 200 OK\n"
     ]
    }
   ],
   "source": [
    "import io\n",
    "import uvicorn\n",
    "import numpy as np\n",
    "import nest_asyncio\n",
    "from enum import Enum\n",
    "from fastapi import FastAPI, HTTPException\n",
    "from fastapi.encoders import jsonable_encoder\n",
    "from fastapi.responses import JSONResponse\n",
    "\n",
    "# Assign an instance of the FastAPI class to the variable \"app\".\n",
    "# You will interact with your api using this instance.\n",
    "app = FastAPI(title='Deploying a ML Model with FastAPI')\n",
    "\n",
    "# By using @app.get(\"/\") you are allowing the GET method to work for the / endpoint.\n",
    "@app.get(\"/\")\n",
    "def home():\n",
    "    return \"Welcome to the sarcasm predictor. Now head over to http://localhost:8000/docs.\"\n",
    "\n",
    "# This endpoint handles all the logic necessary for the object detection to work.\n",
    "# It requires the desired model and the image in which to perform object detection.\n",
    "@app.post(\"/predict\") \n",
    "def prediction(sentence: str):\n",
    "\n",
    "    # PREPROCESS DATA\n",
    "    sequence = tokenizer.texts_to_sequences([sentence])\n",
    "    padding = pad_sequences(sequence, maxlen=max_words)\n",
    "    \n",
    "    # RUN PREDICTION MODEL\n",
    "    prediction = model.predict(padding).round()\n",
    "    \n",
    "    # RETURN PREDICTION\n",
    "    if prediction == 0:\n",
    "        return \"Not Sarcastic\"\n",
    "    if prediction == 1:\n",
    "        return \"Sarcastic\"\n",
    "        \n",
    "\n",
    "# Allows the server to be run in this interactive environment\n",
    "nest_asyncio.apply()\n",
    "\n",
    "# Host depends on the setup you selected (docker or virtual env)\n",
    "host = \"127.0.0.1\"\n",
    "\n",
    "# Spin up the server!    \n",
    "uvicorn.run(app, host=host, port=8000)"
   ]
  },
  {
   "cell_type": "code",
   "execution_count": null,
   "id": "558ee199",
   "metadata": {},
   "outputs": [],
   "source": []
  }
 ],
 "metadata": {
  "kernelspec": {
   "display_name": "Python 3",
   "language": "python",
   "name": "python3"
  },
  "language_info": {
   "codemirror_mode": {
    "name": "ipython",
    "version": 3
   },
   "file_extension": ".py",
   "mimetype": "text/x-python",
   "name": "python",
   "nbconvert_exporter": "python",
   "pygments_lexer": "ipython3",
   "version": "3.9.9"
  }
 },
 "nbformat": 4,
 "nbformat_minor": 5
}
